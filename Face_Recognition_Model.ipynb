{
  "nbformat": 4,
  "nbformat_minor": 0,
  "metadata": {
    "colab": {
      "provenance": [],
      "toc_visible": true
    },
    "kernelspec": {
      "name": "python3",
      "display_name": "Python 3"
    },
    "accelerator": "GPU"
  },
  "cells": [
    {
      "cell_type": "code",
      "metadata": {
        "id": "91y9PVhu9Uwf",
        "colab": {
          "base_uri": "https://localhost:8080/"
        },
        "outputId": "20bc09bd-c207-4b1a-d83b-131b8ec57040"
      },
      "source": [
        "#Pre setup\n",
        "# Download pre-trained FaceNet model that will be used for image embedding process\n",
        "import os\n",
        "\n",
        "if not os.path.exists('facenet_keras.h5'):\n",
        "    ! wget https://github.com/D2KLab/Face-Celebrity-Recognition/raw/master/model/facenet_keras.h5\n",
        "try:\n",
        "    import mtcnn\n",
        "except ModuleNotFoundError:\n",
        "    ! pip install mtcnn\n",
        "\n",
        "try:\n",
        "    import split_folders\n",
        "except ModuleNotFoundError:\n",
        "    ! pip install split-folders"
      ],
      "execution_count": null,
      "outputs": [
        {
          "output_type": "stream",
          "name": "stdout",
          "text": [
            "--2023-09-16 17:05:16--  https://github.com/D2KLab/Face-Celebrity-Recognition/raw/master/model/facenet_keras.h5\n",
            "Resolving github.com (github.com)... 192.30.255.113\n",
            "Connecting to github.com (github.com)|192.30.255.113|:443... connected.\n",
            "HTTP request sent, awaiting response... 301 Moved Permanently\n",
            "Location: https://github.com/D2KLab/FaceRec/raw/master/model/facenet_keras.h5 [following]\n",
            "--2023-09-16 17:05:16--  https://github.com/D2KLab/FaceRec/raw/master/model/facenet_keras.h5\n",
            "Reusing existing connection to github.com:443.\n",
            "HTTP request sent, awaiting response... 302 Found\n",
            "Location: https://raw.githubusercontent.com/D2KLab/FaceRec/master/model/facenet_keras.h5 [following]\n",
            "--2023-09-16 17:05:17--  https://raw.githubusercontent.com/D2KLab/FaceRec/master/model/facenet_keras.h5\n",
            "Resolving raw.githubusercontent.com (raw.githubusercontent.com)... 185.199.108.133, 185.199.109.133, 185.199.110.133, ...\n",
            "Connecting to raw.githubusercontent.com (raw.githubusercontent.com)|185.199.108.133|:443... connected.\n",
            "HTTP request sent, awaiting response... 200 OK\n",
            "Length: 92397640 (88M) [application/octet-stream]\n",
            "Saving to: ‘facenet_keras.h5’\n",
            "\n",
            "facenet_keras.h5    100%[===================>]  88.12M   249MB/s    in 0.4s    \n",
            "\n",
            "2023-09-16 17:05:20 (249 MB/s) - ‘facenet_keras.h5’ saved [92397640/92397640]\n",
            "\n",
            "Collecting mtcnn\n",
            "  Downloading mtcnn-0.1.1-py3-none-any.whl (2.3 MB)\n",
            "\u001b[2K     \u001b[90m━━━━━━━━━━━━━━━━━━━━━━━━━━━━━━━━━━━━━━━━\u001b[0m \u001b[32m2.3/2.3 MB\u001b[0m \u001b[31m13.3 MB/s\u001b[0m eta \u001b[36m0:00:00\u001b[0m\n",
            "\u001b[?25hRequirement already satisfied: keras>=2.0.0 in /usr/local/lib/python3.10/dist-packages (from mtcnn) (2.13.1)\n",
            "Requirement already satisfied: opencv-python>=4.1.0 in /usr/local/lib/python3.10/dist-packages (from mtcnn) (4.8.0.76)\n",
            "Requirement already satisfied: numpy>=1.21.2 in /usr/local/lib/python3.10/dist-packages (from opencv-python>=4.1.0->mtcnn) (1.23.5)\n",
            "Installing collected packages: mtcnn\n",
            "Successfully installed mtcnn-0.1.1\n",
            "Collecting split-folders\n",
            "  Downloading split_folders-0.5.1-py3-none-any.whl (8.4 kB)\n",
            "Installing collected packages: split-folders\n",
            "Successfully installed split-folders-0.5.1\n"
          ]
        }
      ]
    },
    {
      "cell_type": "code",
      "metadata": {
        "id": "sqnrwxQP-fCS"
      },
      "source": [
        "#Import all the libs needed\n",
        "import mtcnn\n",
        "import numpy as np\n",
        "import os\n",
        "from PIL import Image\n",
        "from numpy import asarray\n",
        "from mtcnn.mtcnn import MTCNN\n",
        "from matplotlib import pyplot as plt\n",
        "from keras.models import load_model"
      ],
      "execution_count": null,
      "outputs": []
    },
    {
      "cell_type": "code",
      "metadata": {
        "id": "SocTbFBc90w3",
        "colab": {
          "base_uri": "https://localhost:8080/",
          "height": 90
        },
        "outputId": "067b728d-d9e9-44c8-b38b-a4674ec35379"
      },
      "source": [
        "# Preparing kaggle environment to download the dataset. For a reference of how to get kaggle.json, please see https://www.kaggle.com/general/74235\n",
        "! pip install -q kaggle\n",
        "from google.colab import files\n",
        "files.upload() # upload kaggle.json"
      ],
      "execution_count": null,
      "outputs": [
        {
          "output_type": "display_data",
          "data": {
            "text/plain": [
              "<IPython.core.display.HTML object>"
            ],
            "text/html": [
              "\n",
              "     <input type=\"file\" id=\"files-1850e4b8-c333-4454-b374-07e3e38ecd05\" name=\"files[]\" multiple disabled\n",
              "        style=\"border:none\" />\n",
              "     <output id=\"result-1850e4b8-c333-4454-b374-07e3e38ecd05\">\n",
              "      Upload widget is only available when the cell has been executed in the\n",
              "      current browser session. Please rerun this cell to enable.\n",
              "      </output>\n",
              "      <script>// Copyright 2017 Google LLC\n",
              "//\n",
              "// Licensed under the Apache License, Version 2.0 (the \"License\");\n",
              "// you may not use this file except in compliance with the License.\n",
              "// You may obtain a copy of the License at\n",
              "//\n",
              "//      http://www.apache.org/licenses/LICENSE-2.0\n",
              "//\n",
              "// Unless required by applicable law or agreed to in writing, software\n",
              "// distributed under the License is distributed on an \"AS IS\" BASIS,\n",
              "// WITHOUT WARRANTIES OR CONDITIONS OF ANY KIND, either express or implied.\n",
              "// See the License for the specific language governing permissions and\n",
              "// limitations under the License.\n",
              "\n",
              "/**\n",
              " * @fileoverview Helpers for google.colab Python module.\n",
              " */\n",
              "(function(scope) {\n",
              "function span(text, styleAttributes = {}) {\n",
              "  const element = document.createElement('span');\n",
              "  element.textContent = text;\n",
              "  for (const key of Object.keys(styleAttributes)) {\n",
              "    element.style[key] = styleAttributes[key];\n",
              "  }\n",
              "  return element;\n",
              "}\n",
              "\n",
              "// Max number of bytes which will be uploaded at a time.\n",
              "const MAX_PAYLOAD_SIZE = 100 * 1024;\n",
              "\n",
              "function _uploadFiles(inputId, outputId) {\n",
              "  const steps = uploadFilesStep(inputId, outputId);\n",
              "  const outputElement = document.getElementById(outputId);\n",
              "  // Cache steps on the outputElement to make it available for the next call\n",
              "  // to uploadFilesContinue from Python.\n",
              "  outputElement.steps = steps;\n",
              "\n",
              "  return _uploadFilesContinue(outputId);\n",
              "}\n",
              "\n",
              "// This is roughly an async generator (not supported in the browser yet),\n",
              "// where there are multiple asynchronous steps and the Python side is going\n",
              "// to poll for completion of each step.\n",
              "// This uses a Promise to block the python side on completion of each step,\n",
              "// then passes the result of the previous step as the input to the next step.\n",
              "function _uploadFilesContinue(outputId) {\n",
              "  const outputElement = document.getElementById(outputId);\n",
              "  const steps = outputElement.steps;\n",
              "\n",
              "  const next = steps.next(outputElement.lastPromiseValue);\n",
              "  return Promise.resolve(next.value.promise).then((value) => {\n",
              "    // Cache the last promise value to make it available to the next\n",
              "    // step of the generator.\n",
              "    outputElement.lastPromiseValue = value;\n",
              "    return next.value.response;\n",
              "  });\n",
              "}\n",
              "\n",
              "/**\n",
              " * Generator function which is called between each async step of the upload\n",
              " * process.\n",
              " * @param {string} inputId Element ID of the input file picker element.\n",
              " * @param {string} outputId Element ID of the output display.\n",
              " * @return {!Iterable<!Object>} Iterable of next steps.\n",
              " */\n",
              "function* uploadFilesStep(inputId, outputId) {\n",
              "  const inputElement = document.getElementById(inputId);\n",
              "  inputElement.disabled = false;\n",
              "\n",
              "  const outputElement = document.getElementById(outputId);\n",
              "  outputElement.innerHTML = '';\n",
              "\n",
              "  const pickedPromise = new Promise((resolve) => {\n",
              "    inputElement.addEventListener('change', (e) => {\n",
              "      resolve(e.target.files);\n",
              "    });\n",
              "  });\n",
              "\n",
              "  const cancel = document.createElement('button');\n",
              "  inputElement.parentElement.appendChild(cancel);\n",
              "  cancel.textContent = 'Cancel upload';\n",
              "  const cancelPromise = new Promise((resolve) => {\n",
              "    cancel.onclick = () => {\n",
              "      resolve(null);\n",
              "    };\n",
              "  });\n",
              "\n",
              "  // Wait for the user to pick the files.\n",
              "  const files = yield {\n",
              "    promise: Promise.race([pickedPromise, cancelPromise]),\n",
              "    response: {\n",
              "      action: 'starting',\n",
              "    }\n",
              "  };\n",
              "\n",
              "  cancel.remove();\n",
              "\n",
              "  // Disable the input element since further picks are not allowed.\n",
              "  inputElement.disabled = true;\n",
              "\n",
              "  if (!files) {\n",
              "    return {\n",
              "      response: {\n",
              "        action: 'complete',\n",
              "      }\n",
              "    };\n",
              "  }\n",
              "\n",
              "  for (const file of files) {\n",
              "    const li = document.createElement('li');\n",
              "    li.append(span(file.name, {fontWeight: 'bold'}));\n",
              "    li.append(span(\n",
              "        `(${file.type || 'n/a'}) - ${file.size} bytes, ` +\n",
              "        `last modified: ${\n",
              "            file.lastModifiedDate ? file.lastModifiedDate.toLocaleDateString() :\n",
              "                                    'n/a'} - `));\n",
              "    const percent = span('0% done');\n",
              "    li.appendChild(percent);\n",
              "\n",
              "    outputElement.appendChild(li);\n",
              "\n",
              "    const fileDataPromise = new Promise((resolve) => {\n",
              "      const reader = new FileReader();\n",
              "      reader.onload = (e) => {\n",
              "        resolve(e.target.result);\n",
              "      };\n",
              "      reader.readAsArrayBuffer(file);\n",
              "    });\n",
              "    // Wait for the data to be ready.\n",
              "    let fileData = yield {\n",
              "      promise: fileDataPromise,\n",
              "      response: {\n",
              "        action: 'continue',\n",
              "      }\n",
              "    };\n",
              "\n",
              "    // Use a chunked sending to avoid message size limits. See b/62115660.\n",
              "    let position = 0;\n",
              "    do {\n",
              "      const length = Math.min(fileData.byteLength - position, MAX_PAYLOAD_SIZE);\n",
              "      const chunk = new Uint8Array(fileData, position, length);\n",
              "      position += length;\n",
              "\n",
              "      const base64 = btoa(String.fromCharCode.apply(null, chunk));\n",
              "      yield {\n",
              "        response: {\n",
              "          action: 'append',\n",
              "          file: file.name,\n",
              "          data: base64,\n",
              "        },\n",
              "      };\n",
              "\n",
              "      let percentDone = fileData.byteLength === 0 ?\n",
              "          100 :\n",
              "          Math.round((position / fileData.byteLength) * 100);\n",
              "      percent.textContent = `${percentDone}% done`;\n",
              "\n",
              "    } while (position < fileData.byteLength);\n",
              "  }\n",
              "\n",
              "  // All done.\n",
              "  yield {\n",
              "    response: {\n",
              "      action: 'complete',\n",
              "    }\n",
              "  };\n",
              "}\n",
              "\n",
              "scope.google = scope.google || {};\n",
              "scope.google.colab = scope.google.colab || {};\n",
              "scope.google.colab._files = {\n",
              "  _uploadFiles,\n",
              "  _uploadFilesContinue,\n",
              "};\n",
              "})(self);\n",
              "</script> "
            ]
          },
          "metadata": {}
        },
        {
          "output_type": "stream",
          "name": "stdout",
          "text": [
            "Saving kaggle.json to kaggle.json\n"
          ]
        },
        {
          "output_type": "execute_result",
          "data": {
            "text/plain": [
              "{'kaggle.json': b'{\"username\":\"anoushah\",\"key\":\"90914b43537c7c010124ec1a2918890a\"}'}"
            ]
          },
          "metadata": {},
          "execution_count": 5
        }
      ]
    },
    {
      "cell_type": "code",
      "source": [
        "!pip install split-folders"
      ],
      "metadata": {
        "colab": {
          "base_uri": "https://localhost:8080/"
        },
        "id": "rxdO6gxn-dGz",
        "outputId": "3988d540-7244-4fe9-df91-a64d65836f9b"
      },
      "execution_count": null,
      "outputs": [
        {
          "output_type": "stream",
          "name": "stdout",
          "text": [
            "Requirement already satisfied: split-folders in /usr/local/lib/python3.10/dist-packages (0.5.1)\n"
          ]
        }
      ]
    },
    {
      "cell_type": "code",
      "metadata": {
        "id": "DlVrAQ2_-RYI",
        "colab": {
          "base_uri": "https://localhost:8080/",
          "height": 436
        },
        "outputId": "4283c656-4f4e-4b24-f14a-bd30dd40c79c"
      },
      "source": [
        "# Download and split the dataset into train/val dataset\n",
        "# The data set source https://www.kaggle.com/hereisburak/pins-face-recognition\n",
        "\n",
        "! mkdir ~/.kaggle\n",
        "! cp kaggle.json ~/.kaggle/\n",
        "! chmod 600 ~/.kaggle/kaggle.json\n",
        "! kaggle datasets download -d hereisburak/pins-face-recognition\n",
        "! unzip -q pins-face-recognition.zip\n",
        "\n",
        "import split_folders\n",
        "training_examples = 20\n",
        "validation_examples = 7\n",
        "collection_dir = 'pins_dataset'\n",
        "\n",
        "split_folders.fixed(input='105_classes_pins_dataset', output=collection_dir, fixed=(training_examples, validation_examples))"
      ],
      "execution_count": null,
      "outputs": [
        {
          "output_type": "stream",
          "name": "stdout",
          "text": [
            "mkdir: cannot create directory ‘/root/.kaggle’: File exists\n",
            "pins-face-recognition.zip: Skipping, found more recently modified local copy (use --force to force download)\n",
            "replace 105_classes_pins_dataset/pins_Adriana Lima/Adriana Lima0_0.jpg? [y]es, [n]o, [A]ll, [N]one, [r]ename: "
          ]
        },
        {
          "output_type": "error",
          "ename": "ModuleNotFoundError",
          "evalue": "ignored",
          "traceback": [
            "\u001b[0;31m---------------------------------------------------------------------------\u001b[0m",
            "\u001b[0;31mModuleNotFoundError\u001b[0m                       Traceback (most recent call last)",
            "\u001b[0;32m<ipython-input-8-720bc9a17e94>\u001b[0m in \u001b[0;36m<cell line: 10>\u001b[0;34m()\u001b[0m\n\u001b[1;32m      8\u001b[0m \u001b[0mget_ipython\u001b[0m\u001b[0;34m(\u001b[0m\u001b[0;34m)\u001b[0m\u001b[0;34m.\u001b[0m\u001b[0msystem\u001b[0m\u001b[0;34m(\u001b[0m\u001b[0;34m' unzip -q pins-face-recognition.zip'\u001b[0m\u001b[0;34m)\u001b[0m\u001b[0;34m\u001b[0m\u001b[0;34m\u001b[0m\u001b[0m\n\u001b[1;32m      9\u001b[0m \u001b[0;34m\u001b[0m\u001b[0m\n\u001b[0;32m---> 10\u001b[0;31m \u001b[0;32mimport\u001b[0m \u001b[0msplit_folders\u001b[0m\u001b[0;34m\u001b[0m\u001b[0;34m\u001b[0m\u001b[0m\n\u001b[0m\u001b[1;32m     11\u001b[0m \u001b[0mtraining_examples\u001b[0m \u001b[0;34m=\u001b[0m \u001b[0;36m20\u001b[0m\u001b[0;34m\u001b[0m\u001b[0;34m\u001b[0m\u001b[0m\n\u001b[1;32m     12\u001b[0m \u001b[0mvalidation_examples\u001b[0m \u001b[0;34m=\u001b[0m \u001b[0;36m7\u001b[0m\u001b[0;34m\u001b[0m\u001b[0;34m\u001b[0m\u001b[0m\n",
            "\u001b[0;31mModuleNotFoundError\u001b[0m: No module named 'split_folders'",
            "",
            "\u001b[0;31m---------------------------------------------------------------------------\u001b[0;32m\nNOTE: If your import is failing due to a missing package, you can\nmanually install dependencies using either !pip or !apt.\n\nTo view examples of installing some common dependencies, click the\n\"Open Examples\" button below.\n\u001b[0;31m---------------------------------------------------------------------------\u001b[0m\n"
          ],
          "errorDetails": {
            "actions": [
              {
                "action": "open_url",
                "actionText": "Open Examples",
                "url": "/notebooks/snippets/importing_libraries.ipynb"
              }
            ]
          }
        }
      ]
    },
    {
      "cell_type": "markdown",
      "metadata": {
        "id": "m6lDtrTjSsL3"
      },
      "source": [
        "## Face Detection\n",
        "Purpose for this cell is to get a face only dataset from the given dataset, to be able to be used in face embedding process. The faces extracted will save all the detected face to faces-only-dataset.npz format"
      ]
    },
    {
      "cell_type": "code",
      "metadata": {
        "id": "9tNSPHGBTGNT"
      },
      "source": [
        "import time\n",
        "\n",
        "def extract_face(filename, required_size=(160,160)):\n",
        "    detector = MTCNN()\n",
        "    image = Image.open(filename)\n",
        "    image = image.convert('RGB')\n",
        "    pixels = asarray(image)\n",
        "    faces = detector.detect_faces(pixels)\n",
        "\n",
        "    face_array = None\n",
        "    if len(faces) > 0:\n",
        "      initialX, initialY, initialWidth, initialHeight = faces[0]['box']\n",
        "      used_index = 0\n",
        "      highestWidth = initialX\n",
        "      highestHeight = initialY\n",
        "      index = 0\n",
        "      for face in faces:\n",
        "      #With Assumption that we're going to close up the targetted person\n",
        "          x, y, width, height = face['box']\n",
        "          if width > highestWidth or height > highestHeight :\n",
        "              used_index = index\n",
        "              break\n",
        "\n",
        "          index = index + 1\n",
        "\n",
        "      x1, y1, width, height = faces[used_index]['box']\n",
        "      x1, y1 = abs(x1), abs(y1)\n",
        "      x2, y2 = x1 + width, y1 + height\n",
        "      face_boundary = pixels[y1:y2, x1:x2]\n",
        "      face_image = Image.fromarray(face_boundary)\n",
        "      face_image = face_image.resize(required_size)\n",
        "      face_array = asarray(face_image)\n",
        "      # print(used_index)\n",
        "      return face_array\n",
        "    else:\n",
        "      print(f'{filename} face cannot be detected')\n",
        "      plt.imshow(image)\n",
        "      plt.show()\n",
        "    return face_array\n",
        "\n",
        "def load_faces(directory):\n",
        "    faces = []\n",
        "    for filename in os.listdir(directory):\n",
        "      path = os.path.join(directory, filename)\n",
        "      face = extract_face(path)\n",
        "      if face is not None:\n",
        "        faces.append(face)\n",
        "    return faces\n",
        "\n",
        "def load_dataset(directory):\n",
        "    x, y = [], []\n",
        "    counter = 1\n",
        "    start_time = time.time()\n",
        "    for subdir in os.listdir(directory):\n",
        "      mid_time = time.time()\n",
        "      path = os.path.join(directory, subdir + '/') # e.g: train/ben_afflect/\n",
        "      print(f'processing {path} ({counter} out of {len(os.listdir(directory))})...')\n",
        "      faces = load_faces(path)\n",
        "      labels = [subdir for i in range(len(faces))] # assign label to each face\n",
        "      x.extend(faces)\n",
        "      y.extend(labels)\n",
        "      print('>loaded %d examples for class %s in %d seconds.' % (len(faces), subdir, time.time() - mid_time))\n",
        "      counter += 1\n",
        "    end_time = time.time()\n",
        "    print(f'Finish processing {directory} for {end_time - start_time} seconds.')\n",
        "    return asarray(x), asarray(y)\n",
        "\n",
        "train_dir = os.path.join(collection_dir, 'val')\n",
        "train_X, train_y = load_dataset(train_dir)\n",
        "print(train_X.shape, train_y.shape)\n",
        "val_dir = os.path.join(collection_dir, 'test')\n",
        "val_X, val_y = load_dataset(val_dir)\n",
        "print(val_X.shape, val_y.shape)\n",
        "np.savez_compressed('faces-only-dataset.npz', train_X, train_y, val_X, val_y)"
      ],
      "execution_count": null,
      "outputs": []
    },
    {
      "cell_type": "markdown",
      "metadata": {
        "id": "6rb3Lc14TUdN"
      },
      "source": [
        "#Create Embedding for Each Face\n",
        "From the face generated earlier, we create an embedding of the face using FaceNet"
      ]
    },
    {
      "cell_type": "code",
      "metadata": {
        "id": "V6_QziTxTjPP"
      },
      "source": [
        "import time\n",
        "\n",
        "data = np.load('faces-only-dataset.npz')\n",
        "train_X, train_y = data['arr_0'], data['arr_1']\n",
        "test_X, test_y = data['arr_2'], data['arr_3']\n",
        "print('Dataset: train=%d, test=%d' % (train_X.shape[0], test_X.shape[0]))\n",
        "print('Loaded: ', train_X.shape, train_y.shape, test_X.shape, test_y.shape)\n",
        "\n",
        "model = load_model('facenet_keras.h5')\n",
        "print('Loaded Model')\n",
        "\n",
        "def get_embedding(model, face_pixels):\n",
        "    face_pixels = face_pixels.astype('float32')\n",
        "    mean, std = face_pixels.mean(), face_pixels.std()\n",
        "    face_pixels = (face_pixels - mean)/std\n",
        "    samples = np.expand_dims(face_pixels, axis=0)\n",
        "    y_hat = model.predict(samples) # get the embedding\n",
        "    return y_hat\n",
        "\n",
        "start = time.time()\n",
        "new_train_X = list()\n",
        "for face_pixels in train_X:\n",
        "\tembedding = get_embedding(model, face_pixels)\n",
        "\tnew_train_X.extend(embedding)\n",
        "\n",
        "new_train_X = asarray(new_train_X)\n",
        "print(new_train_X.shape)\n",
        "\n",
        "new_test_X = list()\n",
        "for face_pixels in test_X:\n",
        "\tembedding = get_embedding(model, face_pixels)\n",
        "\tnew_test_X.extend(embedding)\n",
        "new_test_X = asarray(new_test_X)\n",
        "\n",
        "print(new_test_X.shape)\n",
        "end = time.time()\n",
        "print(f'End processing for {end - start} seconds')\n",
        "\n",
        "np.savez_compressed('faces-embeddings.npz', new_train_X, train_y, new_test_X, test_y)"
      ],
      "execution_count": null,
      "outputs": []
    },
    {
      "cell_type": "markdown",
      "metadata": {
        "id": "Qvkb1RbrtIo3"
      },
      "source": [
        "## Performing Faces Classification\n",
        "\n",
        "From the embedding, we perform the face classification using SVM model and the embedding as the feature. The target is the face classes (whom the face is)"
      ]
    },
    {
      "cell_type": "code",
      "metadata": {
        "id": "IN7ohEZUtB3D",
        "colab": {
          "base_uri": "https://localhost:8080/",
          "height": 312
        },
        "outputId": "fc658749-14af-4239-804a-1714d2e5e6b4"
      },
      "source": [
        "from sklearn.preprocessing import LabelEncoder\n",
        "from keras.models import Sequential\n",
        "from keras.layers import Dense\n",
        "from sklearn.preprocessing import LabelEncoder\n",
        "\n",
        "data = np.load('faces-embeddings.npz')\n",
        "train_X, train_y = data['arr_0'], data['arr_1']\n",
        "test_X, test_y = data['arr_2'], data['arr_3']\n",
        "\n",
        "encoder = LabelEncoder()\n",
        "encoder.fit(train_y)\n",
        "\n",
        "label_classes = encoder.classes_\n",
        "train_y_encoded = encoder.transform(train_y)\n",
        "test_y_encoded = encoder.transform(test_y)\n",
        "\n",
        "# define the keras model\n",
        "model_vector_classifier = Sequential()\n",
        "model_vector_classifier.add(Dense(64, input_dim=128, activation='relu'))\n",
        "model_vector_classifier.add(Dense(32, activation='relu'))\n",
        "model_vector_classifier.add(Dense(105, activation='softmax'))\n",
        "model_vector_classifier.summary()\n",
        "\n",
        "model_vector_classifier.compile(loss='sparse_categorical_crossentropy', optimizer='adam', metrics=['accuracy'])\n",
        "history = model_vector_classifier.fit(train_X, train_y_encoded, epochs=15, batch_size=10, verbose=0)\n",
        "\n",
        "_, score_train = model_vector_classifier.evaluate(train_X, train_y_encoded)\n",
        "_, score_test = model_vector_classifier.evaluate(test_X, test_y_encoded)\n",
        "\n",
        "\n",
        "print('Accuracy: train=%.3f, test=%.3f' % (score_train*100, score_test*100))"
      ],
      "execution_count": null,
      "outputs": [
        {
          "output_type": "stream",
          "text": [
            "Model: \"sequential_3\"\n",
            "_________________________________________________________________\n",
            "Layer (type)                 Output Shape              Param #   \n",
            "=================================================================\n",
            "dense_26271 (Dense)          (None, 64)                8256      \n",
            "_________________________________________________________________\n",
            "dense_26272 (Dense)          (None, 32)                2080      \n",
            "_________________________________________________________________\n",
            "dense_26273 (Dense)          (None, 105)               3465      \n",
            "=================================================================\n",
            "Total params: 13,801\n",
            "Trainable params: 13,801\n",
            "Non-trainable params: 0\n",
            "_________________________________________________________________\n",
            "2091/2091 [==============================] - 0s 72us/step\n",
            "735/735 [==============================] - 0s 58us/step\n",
            "Accuracy: train=100.000, test=92.925\n"
          ],
          "name": "stdout"
        }
      ]
    },
    {
      "cell_type": "code",
      "metadata": {
        "id": "L9gWdlPJtPqL"
      },
      "source": [
        "def top_10_prediction(prob, labels):\n",
        "    sorted_rank = (-prob).argsort()[:10]\n",
        "    label_prob = {}\n",
        "    counter = 0\n",
        "    for index in sorted_rank:\n",
        "        class_ = labels[index]\n",
        "        probability = prob[index]\n",
        "        label_prob[class_.replace(' ', '_')] = probability*100\n",
        "        counter += 1\n",
        "\n",
        "    s = sorted(label_prob.items(), key=lambda x: x[1], reverse=True)[:10]\n",
        "    for k, v in s:\n",
        "        print(k.replace('pins_', '').replace('_', ' '), f'{v:.2f}%')"
      ],
      "execution_count": null,
      "outputs": []
    },
    {
      "cell_type": "code",
      "metadata": {
        "id": "Oqape4wvtTv4",
        "colab": {
          "base_uri": "https://localhost:8080/",
          "height": 489
        },
        "outputId": "283c9779-ec81-4713-fc27-4ad1e25a9caf"
      },
      "source": [
        "# test model on a random example from the test dataset\n",
        "import random\n",
        "data = np.load('faces-only-dataset.npz')\n",
        "test_X_faces = data['arr_2']\n",
        "\n",
        "selection = random.choice([i for i in range(test_X.shape[0])])\n",
        "random_face_pixels = test_X_faces[selection]\n",
        "random_face_emb = test_X[selection]\n",
        "random_face_class = test_y_encoded[selection]\n",
        "random_face_name = encoder.inverse_transform([random_face_class])\n",
        "# prediction for the face\n",
        "samples = np.expand_dims(random_face_emb, axis=0)\n",
        "yhat_class = model_vector_classifier.predict_classes(samples)\n",
        "yhat_prob = model_vector_classifier.predict(samples)\n",
        "# get name\n",
        "class_index = yhat_class[0]\n",
        "class_probability = yhat_prob[0,class_index] * 100\n",
        "predict_names = encoder.inverse_transform(yhat_class)\n",
        "print('Predicted: %s (%.3f)' % (predict_names[0], class_probability))\n",
        "print('Expected: %s' % random_face_name[0])\n",
        "# plot for fun\n",
        "plt.imshow(random_face_pixels)\n",
        "title = '%s (%.3f)' % (predict_names[0], class_probability)\n",
        "plt.title(title)\n",
        "plt.show()\n",
        "top_10_prediction(yhat_prob[0], encoder.classes_)"
      ],
      "execution_count": null,
      "outputs": [
        {
          "output_type": "stream",
          "text": [
            "Predicted: pins_Leonardo DiCaprio (89.577)\n",
            "Expected: pins_Leonardo DiCaprio\n"
          ],
          "name": "stdout"
        },
        {
          "output_type": "display_data",
          "data": {
            "image/png": "[encoded data removed]",
            "text/plain": [
              "<Figure size 432x288 with 1 Axes>"
            ]
          },
          "metadata": {
            "tags": [],
            "needs_background": "light"
          }
        },
        {
          "output_type": "stream",
          "text": [
            "Leonardo DiCaprio 89.58%\n",
            "Logan Lerman 5.57%\n",
            "Tom Hardy 3.54%\n",
            "Tom Holland 1.15%\n",
            "Johnny Depp 0.09%\n",
            "Selena Gomez 0.04%\n",
            "grant gustin 0.01%\n",
            "Marie Avgeropoulos 0.01%\n",
            "Lili Reinhart 0.01%\n",
            "Ben Affleck 0.00%\n"
          ],
          "name": "stdout"
        }
      ]
    },
    {
      "cell_type": "markdown",
      "metadata": {
        "id": "KVbYCc83tXAF"
      },
      "source": [
        "## Export the Model\n",
        "\n",
        "Export the model to be used in other environment"
      ]
    },
    {
      "cell_type": "code",
      "metadata": {
        "id": "skfH2GeXtWrP"
      },
      "source": [
        "import json\n",
        "model_vector_classifier.save('vector_classifier.h5')\n",
        "with open('label_classes.json', 'w') as outfile:\n",
        "    json.dump(list(encoder.classes_), outfile)"
      ],
      "execution_count": null,
      "outputs": []
    },
    {
      "cell_type": "markdown",
      "metadata": {
        "id": "UUgZRfkxR0Gm"
      },
      "source": [
        "## Using Pretrained Model from Code Above"
      ]
    },
    {
      "cell_type": "code",
      "metadata": {
        "id": "GbJI6UnawsqG"
      },
      "source": [
        "def setup():\n",
        "    # Download pre-trained FaceNet model, pre-trained SVM, and photo labels\n",
        "    import os\n",
        "\n",
        "    if not os.path.exists('facenet_keras.h5'):\n",
        "        !wget https://github.com/D2KLab/Face-Celebrity-Recognition/raw/master/model/facenet_keras.h5\n",
        "    if not os.path.exists('label_classes.json'):\n",
        "        !wget https://ibam.imfast.io/label_classes.json\n",
        "    if not os.path.exists('vector_classifier.h5'):\n",
        "        !wget https://ibam.imfast.io/vector_classifier.h5\n",
        "\n",
        "    # install mtcnn\n",
        "    try:\n",
        "        import mtcnn\n",
        "    except ModuleNotFoundError:\n",
        "        !pip install mtcnn\n",
        "\n",
        "def get_pre_trained():\n",
        "    import json\n",
        "    import numpy as np\n",
        "    from keras.models import load_model\n",
        "\n",
        "    face_classes = json.load(open('label_classes.json'))\n",
        "    model_vector_classifier = load_model('vector_classifier.h5')\n",
        "    model_facenet = load_model('facenet_keras.h5')\n",
        "    return model_facenet, model_vector_classifier, face_classes\n",
        "\n",
        "def extract_face(filename, required_size=(160,160)):\n",
        "    from mtcnn.mtcnn import MTCNN\n",
        "    from numpy import asarray\n",
        "    from PIL import Image\n",
        "    from matplotlib import pyplot as plt\n",
        "\n",
        "    image = Image.open(filename)\n",
        "    image = image.convert('RGB')\n",
        "    pixels = asarray(image)\n",
        "    # detect face\n",
        "    detector = MTCNN()\n",
        "    results = detector.detect_faces(pixels)\n",
        "    # bounding box\n",
        "    x1, y1, width, height = results[0]['box'] # assuming the photo only contains one face\n",
        "    x1, y1 = abs(x1), abs(y1)\n",
        "    x2, y2 = x1 + width, y1 + height\n",
        "    face = pixels[y1:y2, x1:x2]\n",
        "    image = Image.fromarray(face)\n",
        "    image = image.resize(required_size)\n",
        "    face_array = asarray(image)\n",
        "    plt.imshow(face)\n",
        "    plt.show()\n",
        "\n",
        "    return face_array\n",
        "\n",
        "def get_embedding(model, face_pixels):\n",
        "    import numpy as np\n",
        "\n",
        "    face_pixels = face_pixels.astype('float32')\n",
        "    mean, std = face_pixels.mean(), face_pixels.std()\n",
        "    face_pixels = (face_pixels - mean)/std\n",
        "    samples = np.expand_dims(face_pixels, axis=0)\n",
        "    y_hat = model.predict(samples) # get the embedding\n",
        "    return y_hat\n",
        "\n",
        "def predict_face(model_facenet, model_vector_classifier, face_classes):\n",
        "    from google.colab import files\n",
        "\n",
        "    uploaded = files.upload()\n",
        "    file_name = list(uploaded.keys())[0]\n",
        "    face_pixels = extract_face(file_name)\n",
        "    embedding = get_embedding(model_facenet, face_pixels)\n",
        "\n",
        "    predicted_class = model_vector_classifier.predict_classes(embedding)\n",
        "    probability = model_vector_classifier.predict(embedding)[0]\n",
        "    predicted_name = face_classes[predicted_class[0]]\n",
        "    print(f'Predicted {predicted_name} with probabilty {probability[predicted_class[0]]*100:.2f}%')\n",
        "    top_10_prediction(probability, face_classes)\n",
        "\n",
        "def top_10_prediction(prob, labels):\n",
        "    sorted_rank = (-prob).argsort()[:10]\n",
        "    label_prob = {}\n",
        "    counter = 0\n",
        "    for index in sorted_rank:\n",
        "        class_ = labels[index]\n",
        "        probability = prob[index]\n",
        "        label_prob[class_.replace(' ', '_')] = probability*100\n",
        "        counter += 1\n",
        "\n",
        "    s = sorted(label_prob.items(), key=lambda x: x[1], reverse=True)[:10]\n",
        "    print('\\nTop 10 Predicted Classes:')\n",
        "    for k, v in s:\n",
        "        print(k.replace('pins_', '').replace('_', ' '), f'{v:.2f}%')"
      ],
      "execution_count": null,
      "outputs": []
    },
    {
      "cell_type": "code",
      "metadata": {
        "id": "o7DTaymuwN3f",
        "colab": {
          "resources": {
            "http://localhost:8080/nbextensions/google.colab/files.js": {
              "data": "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",
              "ok": true,
              "headers": [
                [
                  "content-type",
                  "application/javascript"
                ]
              ],
              "status": 200,
              "status_text": ""
            }
          },
          "base_uri": "https://localhost:8080/",
          "height": 582
        },
        "outputId": "4c70d323-d44e-4bcf-de09-b36b0428b88f"
      },
      "source": [
        "setup()\n",
        "model_facenet, model_vector_classifier, face_classes = get_pre_trained()\n",
        "predict_face(model_facenet, model_vector_classifier, face_classes)"
      ],
      "execution_count": null,
      "outputs": [
        {
          "output_type": "stream",
          "text": [
            "/usr/local/lib/python3.6/dist-packages/keras/engine/saving.py:341: UserWarning: No training configuration found in save file: the model was *not* compiled. Compile it manually.\n",
            "  warnings.warn('No training configuration found in save file: '\n"
          ],
          "name": "stderr"
        },
        {
          "output_type": "display_data",
          "data": {
            "text/html": [
              "\n",
              "     <input type=\"file\" id=\"files-9332fa37-424f-4d34-a937-0a4721218ed9\" name=\"files[]\" multiple disabled\n",
              "        style=\"border:none\" />\n",
              "     <output id=\"result-9332fa37-424f-4d34-a937-0a4721218ed9\">\n",
              "      Upload widget is only available when the cell has been executed in the\n",
              "      current browser session. Please rerun this cell to enable.\n",
              "      </output>\n",
              "      <script src=\"/nbextensions/google.colab/files.js\"></script> "
            ],
            "text/plain": [
              "<IPython.core.display.HTML object>"
            ]
          },
          "metadata": {
            "tags": []
          }
        },
        {
          "output_type": "stream",
          "text": [
            "Saving messi.jfif to messi (3).jfif\n"
          ],
          "name": "stdout"
        },
        {
          "output_type": "display_data",
          "data": {
            "image/png": "[encoded data removed]",
            "text/plain": [
              "<Figure size 432x288 with 1 Axes>"
            ]
          },
          "metadata": {
            "tags": [],
            "needs_background": "light"
          }
        },
        {
          "output_type": "stream",
          "text": [
            "Predicted pins_Lionel Messi with probabilty 74.25%\n",
            "\n",
            "Top 10 Predicted Classes:\n",
            "Lionel Messi 74.25%\n",
            "Tom Cruise 10.53%\n",
            "Mark Zuckerberg 3.11%\n",
            "Jake Mcdorman 2.69%\n",
            "Andy Samberg 1.65%\n",
            "Jeremy Renner 1.61%\n",
            "Taylor Swift 0.78%\n",
            "Maria Pedraza 0.70%\n",
            "Ben Affleck 0.69%\n",
            "Tom Holland 0.68%\n"
          ],
          "name": "stdout"
        }
      ]
    }
  ]
}